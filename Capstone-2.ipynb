{
 "cells": [
  {
   "cell_type": "code",
   "execution_count": 165,
   "id": "57814583",
   "metadata": {},
   "outputs": [],
   "source": [
    "import pandas as pd\n",
    "import numpy as np\n",
    "import requests\n",
    "import json\n",
    "import ydata_profiling\n",
    "from ydata_profiling.utils.cache import cache_file"
   ]
  },
  {
   "cell_type": "code",
   "execution_count": 95,
   "id": "dd5ee003",
   "metadata": {},
   "outputs": [],
   "source": [
    "nba = pd.read_csv('nba_2022-23_all_stats_with_salary.csv')"
   ]
  },
  {
   "cell_type": "code",
   "execution_count": 96,
   "id": "b8f8a03f",
   "metadata": {},
   "outputs": [
    {
     "name": "stdout",
     "output_type": "stream",
     "text": [
      "     Unnamed: 0        Player Name    Salary Position  Age     Team  GP  GS  \\\n",
      "0             0      Stephen Curry  48070014       PG   34      GSW  56  56   \n",
      "1             1          John Wall  47345760       PG   32      LAC  34   3   \n",
      "2             2  Russell Westbrook  47080179       PG   34  LAL/LAC  73  24   \n",
      "3             3       LeBron James  44474988       PF   38      LAL  55  54   \n",
      "4             4       Kevin Durant  44119845       PF   34  BRK/PHO  47  47   \n",
      "..          ...                ...       ...      ...  ...      ...  ..  ..   \n",
      "462         462      Justin Minaya     35096       SF   23      POR   4   0   \n",
      "463         463       Kobi Simmons     32795       SG   25      CHO   5   0   \n",
      "464         464          Gabe York     32171       SG   29      IND   3   0   \n",
      "465         465       RaiQuan Gray      5849       PF   23      BRK   1   0   \n",
      "466         466      Jacob Gilyard      5849       PG   24      MEM   1   0   \n",
      "\n",
      "       MP    FG  ...  TOV%  USG%  OWS  DWS   WS  WS/48  OBPM  DBPM  BPM  VORP  \n",
      "0    34.7  10.0  ...  12.5  31.0  5.8  2.0  7.8  0.192   7.5   0.1  7.5   4.7  \n",
      "1    22.2   4.1  ...  17.1  27.0 -0.4  0.7  0.3  0.020  -0.8  -0.4 -1.2   0.1  \n",
      "2    29.1   5.9  ...  18.4  27.7 -0.6  2.6  1.9  0.044   0.3  -0.1  0.2   1.2  \n",
      "3    35.5  11.1  ...  11.6  33.3  3.2  2.4  5.6  0.138   5.5   0.6  6.1   4.0  \n",
      "4    35.6  10.3  ...  13.4  30.7  4.7  2.1  6.8  0.194   6.0   1.2  7.1   3.9  \n",
      "..    ...   ...  ...   ...   ...  ...  ...  ...    ...   ...   ...  ...   ...  \n",
      "462  22.3   1.8  ...  14.6  13.4 -0.2  0.1 -0.1 -0.067  -7.2  -1.9 -9.0  -0.2  \n",
      "463   5.6   0.2  ...  12.7  11.8  0.0  0.0  0.0  0.019  -1.0   0.1 -0.9   0.0  \n",
      "464  18.7   2.7  ...   0.0  16.4  0.1  0.0  0.1  0.091  -1.7  -1.8 -3.5   0.0  \n",
      "465  35.0   6.0  ...  23.7  21.4  0.0  0.0  0.1  0.106  -0.6  -1.4 -2.0   0.0  \n",
      "466  41.0   1.0  ...  40.0   5.1  0.0  0.1  0.1  0.079  -7.8   1.7 -6.1   0.0  \n",
      "\n",
      "[467 rows x 52 columns]\n"
     ]
    }
   ],
   "source": [
    "print(nba)"
   ]
  },
  {
   "cell_type": "code",
   "execution_count": 104,
   "id": "06c5627c",
   "metadata": {},
   "outputs": [],
   "source": [
    "duplicates = nba['Salary'].duplicated()"
   ]
  },
  {
   "cell_type": "code",
   "execution_count": 105,
   "id": "b6e3185f",
   "metadata": {},
   "outputs": [
    {
     "name": "stdout",
     "output_type": "stream",
     "text": [
      "0      False\n",
      "1      False\n",
      "2      False\n",
      "3      False\n",
      "4      False\n",
      "       ...  \n",
      "462    False\n",
      "463    False\n",
      "464    False\n",
      "465    False\n",
      "466     True\n",
      "Name: Salary, Length: 467, dtype: bool\n"
     ]
    }
   ],
   "source": [
    "print(duplicates)"
   ]
  },
  {
   "cell_type": "code",
   "execution_count": 122,
   "id": "8aa7a85e",
   "metadata": {},
   "outputs": [
    {
     "name": "stdout",
     "output_type": "stream",
     "text": [
      "     Unnamed: 0    Player Name  Salary Position  Age Team  GP  GS    MP   FG  \\\n",
      "465         465   RaiQuan Gray    5849       PF   23  BRK   1   0  35.0  6.0   \n",
      "466         466  Jacob Gilyard    5849       PG   24  MEM   1   0  41.0  1.0   \n",
      "\n",
      "     ...  TOV%  USG%  OWS  DWS   WS  WS/48  OBPM  DBPM  BPM  VORP  \n",
      "465  ...  23.7  21.4  0.0  0.0  0.1  0.106  -0.6  -1.4 -2.0   0.0  \n",
      "466  ...  40.0   5.1  0.0  0.1  0.1  0.079  -7.8   1.7 -6.1   0.0  \n",
      "\n",
      "[2 rows x 52 columns]\n"
     ]
    }
   ],
   "source": [
    "idx = pd.IndexSlice\n",
    "print(nba.iloc[idx[465:467, :]])"
   ]
  },
  {
   "cell_type": "code",
   "execution_count": 129,
   "id": "2aeff197",
   "metadata": {},
   "outputs": [],
   "source": [
    "nba1 = nba.drop('Unnamed: 0', axis = 1)"
   ]
  },
  {
   "cell_type": "code",
   "execution_count": 130,
   "id": "398e0449",
   "metadata": {},
   "outputs": [
    {
     "name": "stdout",
     "output_type": "stream",
     "text": [
      "           Player Name    Salary Position  Age     Team  GP  GS    MP    FG  \\\n",
      "0        Stephen Curry  48070014       PG   34      GSW  56  56  34.7  10.0   \n",
      "1            John Wall  47345760       PG   32      LAC  34   3  22.2   4.1   \n",
      "2    Russell Westbrook  47080179       PG   34  LAL/LAC  73  24  29.1   5.9   \n",
      "3         LeBron James  44474988       PF   38      LAL  55  54  35.5  11.1   \n",
      "4         Kevin Durant  44119845       PF   34  BRK/PHO  47  47  35.6  10.3   \n",
      "..                 ...       ...      ...  ...      ...  ..  ..   ...   ...   \n",
      "462      Justin Minaya     35096       SF   23      POR   4   0  22.3   1.8   \n",
      "463       Kobi Simmons     32795       SG   25      CHO   5   0   5.6   0.2   \n",
      "464          Gabe York     32171       SG   29      IND   3   0  18.7   2.7   \n",
      "465       RaiQuan Gray      5849       PF   23      BRK   1   0  35.0   6.0   \n",
      "466      Jacob Gilyard      5849       PG   24      MEM   1   0  41.0   1.0   \n",
      "\n",
      "      FGA  ...  TOV%  USG%  OWS  DWS   WS  WS/48  OBPM  DBPM  BPM  VORP  \n",
      "0    20.2  ...  12.5  31.0  5.8  2.0  7.8  0.192   7.5   0.1  7.5   4.7  \n",
      "1     9.9  ...  17.1  27.0 -0.4  0.7  0.3  0.020  -0.8  -0.4 -1.2   0.1  \n",
      "2    13.6  ...  18.4  27.7 -0.6  2.6  1.9  0.044   0.3  -0.1  0.2   1.2  \n",
      "3    22.2  ...  11.6  33.3  3.2  2.4  5.6  0.138   5.5   0.6  6.1   4.0  \n",
      "4    18.3  ...  13.4  30.7  4.7  2.1  6.8  0.194   6.0   1.2  7.1   3.9  \n",
      "..    ...  ...   ...   ...  ...  ...  ...    ...   ...   ...  ...   ...  \n",
      "462   5.8  ...  14.6  13.4 -0.2  0.1 -0.1 -0.067  -7.2  -1.9 -9.0  -0.2  \n",
      "463   1.2  ...  12.7  11.8  0.0  0.0  0.0  0.019  -1.0   0.1 -0.9   0.0  \n",
      "464   7.0  ...   0.0  16.4  0.1  0.0  0.1  0.091  -1.7  -1.8 -3.5   0.0  \n",
      "465  12.0  ...  23.7  21.4  0.0  0.0  0.1  0.106  -0.6  -1.4 -2.0   0.0  \n",
      "466   3.0  ...  40.0   5.1  0.0  0.1  0.1  0.079  -7.8   1.7 -6.1   0.0  \n",
      "\n",
      "[467 rows x 51 columns]\n"
     ]
    }
   ],
   "source": [
    "print(nba1)"
   ]
  },
  {
   "cell_type": "code",
   "execution_count": 131,
   "id": "7c8c0f74",
   "metadata": {},
   "outputs": [],
   "source": [
    "nba2 = pd.DataFrame(nba1)"
   ]
  },
  {
   "cell_type": "code",
   "execution_count": 132,
   "id": "00689018",
   "metadata": {},
   "outputs": [
    {
     "name": "stdout",
     "output_type": "stream",
     "text": [
      "           Player Name    Salary Position  Age     Team  GP  GS    MP    FG  \\\n",
      "0        Stephen Curry  48070014       PG   34      GSW  56  56  34.7  10.0   \n",
      "1            John Wall  47345760       PG   32      LAC  34   3  22.2   4.1   \n",
      "2    Russell Westbrook  47080179       PG   34  LAL/LAC  73  24  29.1   5.9   \n",
      "3         LeBron James  44474988       PF   38      LAL  55  54  35.5  11.1   \n",
      "4         Kevin Durant  44119845       PF   34  BRK/PHO  47  47  35.6  10.3   \n",
      "..                 ...       ...      ...  ...      ...  ..  ..   ...   ...   \n",
      "462      Justin Minaya     35096       SF   23      POR   4   0  22.3   1.8   \n",
      "463       Kobi Simmons     32795       SG   25      CHO   5   0   5.6   0.2   \n",
      "464          Gabe York     32171       SG   29      IND   3   0  18.7   2.7   \n",
      "465       RaiQuan Gray      5849       PF   23      BRK   1   0  35.0   6.0   \n",
      "466      Jacob Gilyard      5849       PG   24      MEM   1   0  41.0   1.0   \n",
      "\n",
      "      FGA  ...  TOV%  USG%  OWS  DWS   WS  WS/48  OBPM  DBPM  BPM  VORP  \n",
      "0    20.2  ...  12.5  31.0  5.8  2.0  7.8  0.192   7.5   0.1  7.5   4.7  \n",
      "1     9.9  ...  17.1  27.0 -0.4  0.7  0.3  0.020  -0.8  -0.4 -1.2   0.1  \n",
      "2    13.6  ...  18.4  27.7 -0.6  2.6  1.9  0.044   0.3  -0.1  0.2   1.2  \n",
      "3    22.2  ...  11.6  33.3  3.2  2.4  5.6  0.138   5.5   0.6  6.1   4.0  \n",
      "4    18.3  ...  13.4  30.7  4.7  2.1  6.8  0.194   6.0   1.2  7.1   3.9  \n",
      "..    ...  ...   ...   ...  ...  ...  ...    ...   ...   ...  ...   ...  \n",
      "462   5.8  ...  14.6  13.4 -0.2  0.1 -0.1 -0.067  -7.2  -1.9 -9.0  -0.2  \n",
      "463   1.2  ...  12.7  11.8  0.0  0.0  0.0  0.019  -1.0   0.1 -0.9   0.0  \n",
      "464   7.0  ...   0.0  16.4  0.1  0.0  0.1  0.091  -1.7  -1.8 -3.5   0.0  \n",
      "465  12.0  ...  23.7  21.4  0.0  0.0  0.1  0.106  -0.6  -1.4 -2.0   0.0  \n",
      "466   3.0  ...  40.0   5.1  0.0  0.1  0.1  0.079  -7.8   1.7 -6.1   0.0  \n",
      "\n",
      "[467 rows x 51 columns]\n"
     ]
    }
   ],
   "source": [
    "print(nba2)"
   ]
  },
  {
   "cell_type": "code",
   "execution_count": 160,
   "id": "8c817e32",
   "metadata": {},
   "outputs": [],
   "source": [
    "pd.set_option('display.max_columns', None)"
   ]
  },
  {
   "cell_type": "code",
   "execution_count": 161,
   "id": "67f15567",
   "metadata": {},
   "outputs": [
    {
     "name": "stdout",
     "output_type": "stream",
     "text": [
      "           Player Name    Salary Position  Age     Team  GP  GS    MP    FG  \\\n",
      "0        Stephen Curry  48070014       PG   34      GSW  56  56  34.7  10.0   \n",
      "1            John Wall  47345760       PG   32      LAC  34   3  22.2   4.1   \n",
      "2    Russell Westbrook  47080179       PG   34  LAL/LAC  73  24  29.1   5.9   \n",
      "3         LeBron James  44474988       PF   38      LAL  55  54  35.5  11.1   \n",
      "4         Kevin Durant  44119845       PF   34  BRK/PHO  47  47  35.6  10.3   \n",
      "..                 ...       ...      ...  ...      ...  ..  ..   ...   ...   \n",
      "462      Justin Minaya     35096       SF   23      POR   4   0  22.3   1.8   \n",
      "463       Kobi Simmons     32795       SG   25      CHO   5   0   5.6   0.2   \n",
      "464          Gabe York     32171       SG   29      IND   3   0  18.7   2.7   \n",
      "465       RaiQuan Gray      5849       PF   23      BRK   1   0  35.0   6.0   \n",
      "466      Jacob Gilyard      5849       PG   24      MEM   1   0  41.0   1.0   \n",
      "\n",
      "      FGA    FG%   3P   3PA    3P%   2P   2PA    2P%   eFG%   FT  FTA    FT%  \\\n",
      "0    20.2  0.493  4.9  11.4  0.427  5.1   8.8  0.579  0.614  4.6  5.0  0.915   \n",
      "1     9.9  0.408  1.0   3.2  0.303  3.1   6.7  0.459  0.457  2.3  3.3  0.681   \n",
      "2    13.6  0.436  1.2   3.9  0.311  4.7   9.7  0.487  0.481  2.8  4.3  0.656   \n",
      "3    22.2  0.500  2.2   6.9  0.321  8.9  15.3  0.580  0.549  4.6  5.9  0.768   \n",
      "4    18.3  0.560  2.0   4.9  0.404  8.3  13.4  0.617  0.614  6.5  7.1  0.919   \n",
      "..    ...    ...  ...   ...    ...  ...   ...    ...    ...  ...  ...    ...   \n",
      "462   5.8  0.304  0.8   3.0  0.250  1.0   2.8  0.364  0.370  0.0  0.3  0.000   \n",
      "463   1.2  0.167  0.2   1.0  0.200  0.0   0.2  0.000  0.250  0.4  0.4  1.000   \n",
      "464   7.0  0.381  2.0   6.0  0.333  0.7   1.0  0.667  0.524  0.7  0.7  1.000   \n",
      "465  12.0  0.500  2.0   5.0  0.400  4.0   7.0  0.571  0.583  2.0  2.0  1.000   \n",
      "466   3.0  0.333  1.0   3.0  0.333  0.0   0.0    NaN  0.500  0.0  0.0    NaN   \n",
      "\n",
      "     ORB  DRB  TRB  AST  STL  BLK  TOV   PF   PTS  Total Minutes   PER    TS%  \\\n",
      "0    0.7  5.4  6.1  6.3  0.9  0.4  3.2  2.1  29.4           1941  24.1  0.656   \n",
      "1    0.4  2.3  2.7  5.2  0.8  0.4  2.4  1.7  11.4            755  13.6  0.498   \n",
      "2    1.2  4.6  5.8  7.5  1.0  0.5  3.5  2.2  15.9           2126  16.1  0.513   \n",
      "3    1.2  7.1  8.3  6.8  0.9  0.6  3.2  1.6  28.9           1954  23.9  0.583   \n",
      "4    0.4  6.3  6.7  5.0  0.7  1.4  3.3  2.1  29.1           1672  25.9  0.677   \n",
      "..   ...  ...  ...  ...  ...  ...  ...  ...   ...            ...   ...    ...   \n",
      "462  0.8  3.0  3.8  1.0  0.5  1.3  1.0  2.3   4.3             89   4.0  0.363   \n",
      "463  0.2  0.6  0.8  1.0  0.0  0.4  0.2  0.0   1.0             28   9.0  0.363   \n",
      "464  0.0  2.0  2.0  1.7  0.7  0.0  0.0  1.7   8.0             56  11.8  0.548   \n",
      "465  3.0  6.0  9.0  7.0  0.0  1.0  4.0  5.0  16.0             35  15.5  0.621   \n",
      "466  0.0  4.0  4.0  7.0  3.0  0.0  2.0  3.0   3.0             41   7.3  0.500   \n",
      "\n",
      "      3PAr    FTr  ORB%  DRB%  TRB%  AST%  STL%  BLK%  TOV%  USG%  OWS  DWS  \\\n",
      "0    0.564  0.248   2.3  16.8   9.7  30.0   1.3   0.9  12.5  31.0  5.8  2.0   \n",
      "1    0.322  0.334   2.1  11.4   6.8  35.3   1.8   1.4  17.1  27.0 -0.4  0.7   \n",
      "2    0.289  0.317   4.7  16.5  10.8  38.6   1.7   1.3  18.4  27.7 -0.6  2.6   \n",
      "3    0.309  0.268   3.7  20.8  12.5  33.5   1.2   1.4  11.6  33.3  3.2  2.4   \n",
      "4    0.267  0.387   1.2  19.5  10.5  24.5   1.0   3.4  13.4  30.7  4.7  2.1   \n",
      "..     ...    ...   ...   ...   ...   ...   ...   ...   ...   ...  ...  ...   \n",
      "462  0.522  0.043   3.8  15.6   9.7   5.9   1.1   5.0  14.6  13.4 -0.2  0.1   \n",
      "463  0.833  0.333   3.7  11.7   7.6  21.8   0.0   6.2  12.7  11.8  0.0  0.0   \n",
      "464  0.857  0.095   0.0  11.9   5.9  12.3   1.7   0.0   0.0  16.4  0.1  0.0   \n",
      "465  0.417  0.167   9.9  18.8  14.4  29.0   0.0   2.4  23.7  21.4  0.0  0.0   \n",
      "466  1.000  0.000   0.0  10.3   5.2  19.4   3.5   0.0  40.0   5.1  0.0  0.1   \n",
      "\n",
      "      WS  WS/48  OBPM  DBPM  BPM  VORP  \n",
      "0    7.8  0.192   7.5   0.1  7.5   4.7  \n",
      "1    0.3  0.020  -0.8  -0.4 -1.2   0.1  \n",
      "2    1.9  0.044   0.3  -0.1  0.2   1.2  \n",
      "3    5.6  0.138   5.5   0.6  6.1   4.0  \n",
      "4    6.8  0.194   6.0   1.2  7.1   3.9  \n",
      "..   ...    ...   ...   ...  ...   ...  \n",
      "462 -0.1 -0.067  -7.2  -1.9 -9.0  -0.2  \n",
      "463  0.0  0.019  -1.0   0.1 -0.9   0.0  \n",
      "464  0.1  0.091  -1.7  -1.8 -3.5   0.0  \n",
      "465  0.1  0.106  -0.6  -1.4 -2.0   0.0  \n",
      "466  0.1  0.079  -7.8   1.7 -6.1   0.0  \n",
      "\n",
      "[467 rows x 51 columns]\n"
     ]
    }
   ],
   "source": [
    "print(nba2)"
   ]
  },
  {
   "cell_type": "code",
   "execution_count": 162,
   "id": "a05607cc",
   "metadata": {},
   "outputs": [],
   "source": [
    "na_values = nba2.isnull().values.any()"
   ]
  },
  {
   "cell_type": "code",
   "execution_count": 163,
   "id": "362c16ff",
   "metadata": {},
   "outputs": [
    {
     "name": "stdout",
     "output_type": "stream",
     "text": [
      "True\n"
     ]
    }
   ],
   "source": [
    "print(na_values)"
   ]
  },
  {
   "cell_type": "code",
   "execution_count": 168,
   "id": "a9f4c06a",
   "metadata": {},
   "outputs": [
    {
     "name": "stdout",
     "output_type": "stream",
     "text": [
      "Player Name       0\n",
      "Salary            0\n",
      "Position          0\n",
      "Age               0\n",
      "Team              0\n",
      "GP                0\n",
      "GS                0\n",
      "MP                0\n",
      "FG                0\n",
      "FGA               0\n",
      "FG%               1\n",
      "3P                0\n",
      "3PA               0\n",
      "3P%              13\n",
      "2P                0\n",
      "2PA               0\n",
      "2P%               4\n",
      "eFG%              1\n",
      "FT                0\n",
      "FTA               0\n",
      "FT%              23\n",
      "ORB               0\n",
      "DRB               0\n",
      "TRB               0\n",
      "AST               0\n",
      "STL               0\n",
      "BLK               0\n",
      "TOV               0\n",
      "PF                0\n",
      "PTS               0\n",
      "Total Minutes     0\n",
      "PER               0\n",
      "TS%               1\n",
      "3PAr              1\n",
      "FTr               1\n",
      "ORB%              0\n",
      "DRB%              0\n",
      "TRB%              0\n",
      "AST%              0\n",
      "STL%              0\n",
      "BLK%              0\n",
      "TOV%              0\n",
      "USG%              0\n",
      "OWS               0\n",
      "DWS               0\n",
      "WS                0\n",
      "WS/48             0\n",
      "OBPM              0\n",
      "DBPM              0\n",
      "BPM               0\n",
      "VORP              0\n",
      "dtype: int64\n"
     ]
    }
   ],
   "source": [
    "na_values2 = nba2.isnull().sum()\n",
    "print(na_values2)"
   ]
  },
  {
   "cell_type": "code",
   "execution_count": 172,
   "id": "24ad0d23",
   "metadata": {},
   "outputs": [],
   "source": [
    "nba3 = nba2.dropna()"
   ]
  },
  {
   "cell_type": "code",
   "execution_count": 173,
   "id": "6e30279b",
   "metadata": {},
   "outputs": [
    {
     "name": "stdout",
     "output_type": "stream",
     "text": [
      "Player Name      0\n",
      "Salary           0\n",
      "Position         0\n",
      "Age              0\n",
      "Team             0\n",
      "GP               0\n",
      "GS               0\n",
      "MP               0\n",
      "FG               0\n",
      "FGA              0\n",
      "FG%              0\n",
      "3P               0\n",
      "3PA              0\n",
      "3P%              0\n",
      "2P               0\n",
      "2PA              0\n",
      "2P%              0\n",
      "eFG%             0\n",
      "FT               0\n",
      "FTA              0\n",
      "FT%              0\n",
      "ORB              0\n",
      "DRB              0\n",
      "TRB              0\n",
      "AST              0\n",
      "STL              0\n",
      "BLK              0\n",
      "TOV              0\n",
      "PF               0\n",
      "PTS              0\n",
      "Total Minutes    0\n",
      "PER              0\n",
      "TS%              0\n",
      "3PAr             0\n",
      "FTr              0\n",
      "ORB%             0\n",
      "DRB%             0\n",
      "TRB%             0\n",
      "AST%             0\n",
      "STL%             0\n",
      "BLK%             0\n",
      "TOV%             0\n",
      "USG%             0\n",
      "OWS              0\n",
      "DWS              0\n",
      "WS               0\n",
      "WS/48            0\n",
      "OBPM             0\n",
      "DBPM             0\n",
      "BPM              0\n",
      "VORP             0\n",
      "dtype: int64\n"
     ]
    }
   ],
   "source": [
    "print(nba3.isnull().sum())"
   ]
  },
  {
   "cell_type": "code",
   "execution_count": 174,
   "id": "babfba7d",
   "metadata": {},
   "outputs": [
    {
     "name": "stdout",
     "output_type": "stream",
     "text": [
      "Player Name      0\n",
      "Salary           0\n",
      "Position         0\n",
      "Age              0\n",
      "Team             0\n",
      "GP               0\n",
      "GS               0\n",
      "MP               0\n",
      "FG               0\n",
      "FGA              0\n",
      "FG%              0\n",
      "3P               0\n",
      "3PA              0\n",
      "3P%              0\n",
      "2P               0\n",
      "2PA              0\n",
      "2P%              0\n",
      "eFG%             0\n",
      "FT               0\n",
      "FTA              0\n",
      "FT%              0\n",
      "ORB              0\n",
      "DRB              0\n",
      "TRB              0\n",
      "AST              0\n",
      "STL              0\n",
      "BLK              0\n",
      "TOV              0\n",
      "PF               0\n",
      "PTS              0\n",
      "Total Minutes    0\n",
      "PER              0\n",
      "TS%              0\n",
      "3PAr             0\n",
      "FTr              0\n",
      "ORB%             0\n",
      "DRB%             0\n",
      "TRB%             0\n",
      "AST%             0\n",
      "STL%             0\n",
      "BLK%             0\n",
      "TOV%             0\n",
      "USG%             0\n",
      "OWS              0\n",
      "DWS              0\n",
      "WS               0\n",
      "WS/48            0\n",
      "OBPM             0\n",
      "DBPM             0\n",
      "BPM              0\n",
      "VORP             0\n",
      "dtype: int64\n"
     ]
    }
   ],
   "source": [
    "print(nba3.isna().sum())"
   ]
  },
  {
   "cell_type": "code",
   "execution_count": 175,
   "id": "aecd0e85",
   "metadata": {},
   "outputs": [
    {
     "name": "stdout",
     "output_type": "stream",
     "text": [
      "<class 'pandas.core.frame.DataFrame'>\n",
      "Index: 433 entries, 0 to 465\n",
      "Data columns (total 51 columns):\n",
      " #   Column         Non-Null Count  Dtype  \n",
      "---  ------         --------------  -----  \n",
      " 0   Player Name    433 non-null    object \n",
      " 1   Salary         433 non-null    int64  \n",
      " 2   Position       433 non-null    object \n",
      " 3   Age            433 non-null    int64  \n",
      " 4   Team           433 non-null    object \n",
      " 5   GP             433 non-null    int64  \n",
      " 6   GS             433 non-null    int64  \n",
      " 7   MP             433 non-null    float64\n",
      " 8   FG             433 non-null    float64\n",
      " 9   FGA            433 non-null    float64\n",
      " 10  FG%            433 non-null    float64\n",
      " 11  3P             433 non-null    float64\n",
      " 12  3PA            433 non-null    float64\n",
      " 13  3P%            433 non-null    float64\n",
      " 14  2P             433 non-null    float64\n",
      " 15  2PA            433 non-null    float64\n",
      " 16  2P%            433 non-null    float64\n",
      " 17  eFG%           433 non-null    float64\n",
      " 18  FT             433 non-null    float64\n",
      " 19  FTA            433 non-null    float64\n",
      " 20  FT%            433 non-null    float64\n",
      " 21  ORB            433 non-null    float64\n",
      " 22  DRB            433 non-null    float64\n",
      " 23  TRB            433 non-null    float64\n",
      " 24  AST            433 non-null    float64\n",
      " 25  STL            433 non-null    float64\n",
      " 26  BLK            433 non-null    float64\n",
      " 27  TOV            433 non-null    float64\n",
      " 28  PF             433 non-null    float64\n",
      " 29  PTS            433 non-null    float64\n",
      " 30  Total Minutes  433 non-null    int64  \n",
      " 31  PER            433 non-null    float64\n",
      " 32  TS%            433 non-null    float64\n",
      " 33  3PAr           433 non-null    float64\n",
      " 34  FTr            433 non-null    float64\n",
      " 35  ORB%           433 non-null    float64\n",
      " 36  DRB%           433 non-null    float64\n",
      " 37  TRB%           433 non-null    float64\n",
      " 38  AST%           433 non-null    float64\n",
      " 39  STL%           433 non-null    float64\n",
      " 40  BLK%           433 non-null    float64\n",
      " 41  TOV%           433 non-null    float64\n",
      " 42  USG%           433 non-null    float64\n",
      " 43  OWS            433 non-null    float64\n",
      " 44  DWS            433 non-null    float64\n",
      " 45  WS             433 non-null    float64\n",
      " 46  WS/48          433 non-null    float64\n",
      " 47  OBPM           433 non-null    float64\n",
      " 48  DBPM           433 non-null    float64\n",
      " 49  BPM            433 non-null    float64\n",
      " 50  VORP           433 non-null    float64\n",
      "dtypes: float64(43), int64(5), object(3)\n",
      "memory usage: 175.9+ KB\n",
      "None\n"
     ]
    }
   ],
   "source": [
    "print(nba3.info())"
   ]
  },
  {
   "cell_type": "code",
   "execution_count": 176,
   "id": "b52f96b8",
   "metadata": {},
   "outputs": [],
   "source": [
    "nba4 = nba3.astype({col: int for col in nba2.columns[7:]})"
   ]
  },
  {
   "cell_type": "code",
   "execution_count": 177,
   "id": "edc2a3f0",
   "metadata": {},
   "outputs": [
    {
     "name": "stdout",
     "output_type": "stream",
     "text": [
      "             Salary         Age          GP          GS          MP  \\\n",
      "count  4.330000e+02  433.000000  433.000000  433.000000  433.000000   \n",
      "mean   8.939026e+06   25.923788   50.796767   23.953811   20.318707   \n",
      "std    1.091468e+07    4.353714   23.109548   27.367487    9.032095   \n",
      "min    5.849000e+03   19.000000    1.000000    0.000000    2.000000   \n",
      "25%    1.910860e+06   23.000000   35.000000    1.000000   13.000000   \n",
      "50%    4.124280e+06   25.000000   56.000000    9.000000   19.000000   \n",
      "75%    1.121526e+07   29.000000   69.000000   50.000000   28.000000   \n",
      "max    4.807001e+07   42.000000   83.000000   83.000000   37.000000   \n",
      "\n",
      "               FG         FGA    FG%          3P         3PA         3P%  \\\n",
      "count  433.000000  433.000000  433.0  433.000000  433.000000  433.000000   \n",
      "mean     3.076212    7.062356    0.0    0.669746    2.575058    0.006928   \n",
      "std      2.451608    4.991965    0.0    0.863045    2.256580    0.083044   \n",
      "min      0.000000    1.000000    0.0    0.000000    0.000000    0.000000   \n",
      "25%      1.000000    3.000000    0.0    0.000000    1.000000    0.000000   \n",
      "50%      2.000000    6.000000    0.0    0.000000    2.000000    0.000000   \n",
      "75%      4.000000    9.000000    0.0    1.000000    4.000000    0.000000   \n",
      "max     11.000000   22.000000    0.0    4.000000   11.000000    1.000000   \n",
      "\n",
      "               2P         2PA         2P%   eFG%          FT         FTA  \\\n",
      "count  433.000000  433.000000  433.000000  433.0  433.000000  433.000000   \n",
      "mean     2.006928    4.069284    0.006928    0.0    1.071594    1.519630   \n",
      "std      2.025862    3.593951    0.083044    0.0    1.593375    1.925753   \n",
      "min      0.000000    0.000000    0.000000    0.0    0.000000    0.000000   \n",
      "25%      1.000000    1.000000    0.000000    0.0    0.000000    0.000000   \n",
      "50%      1.000000    3.000000    0.000000    0.0    0.000000    1.000000   \n",
      "75%      3.000000    6.000000    0.000000    0.0    1.000000    2.000000   \n",
      "max     10.000000   17.000000    1.000000    0.0   10.000000   12.000000   \n",
      "\n",
      "              FT%         ORB         DRB         TRB         AST         STL  \\\n",
      "count  433.000000  433.000000  433.000000  433.000000  433.000000  433.000000   \n",
      "mean     0.055427    0.457275    2.346420    3.198614    1.748268    0.189376   \n",
      "std      0.229077    0.765971    1.703779    2.255097    1.991627    0.398118   \n",
      "min      0.000000    0.000000    0.000000    0.000000    0.000000    0.000000   \n",
      "25%      0.000000    0.000000    1.000000    2.000000    0.000000    0.000000   \n",
      "50%      0.000000    0.000000    2.000000    3.000000    1.000000    0.000000   \n",
      "75%      0.000000    1.000000    3.000000    4.000000    3.000000    0.000000   \n",
      "max      1.000000    5.000000    9.000000   12.000000   10.000000    2.000000   \n",
      "\n",
      "              BLK         TOV          PF         PTS  Total Minutes  \\\n",
      "count  433.000000  433.000000  433.000000  433.000000     433.000000   \n",
      "mean     0.073903    0.695150    1.321016    9.205543    1177.321016   \n",
      "std      0.295158    0.876335    0.794044    6.907240     809.128670   \n",
      "min      0.000000    0.000000    0.000000    0.000000      18.000000   \n",
      "25%      0.000000    0.000000    1.000000    4.000000     457.000000   \n",
      "50%      0.000000    0.000000    1.000000    7.000000    1091.000000   \n",
      "75%      0.000000    1.000000    2.000000   12.000000    1904.000000   \n",
      "max      2.000000    4.000000    5.000000   33.000000    2963.000000   \n",
      "\n",
      "              PER    TS%   3PAr         FTr        ORB%        DRB%  \\\n",
      "count  433.000000  433.0  433.0  433.000000  433.000000  433.000000   \n",
      "mean    12.997691    0.0    0.0    0.002309    4.621247   14.346420   \n",
      "std      4.784475    0.0    0.0    0.048057    3.856778    5.743361   \n",
      "min     -1.000000    0.0    0.0    0.000000    0.000000    0.000000   \n",
      "25%     10.000000    0.0    0.0    0.000000    2.000000   10.000000   \n",
      "50%     13.000000    0.0    0.0    0.000000    3.000000   13.000000   \n",
      "75%     16.000000    0.0    0.0    0.000000    6.000000   17.000000   \n",
      "max     31.000000    0.0    0.0    1.000000   20.000000   40.000000   \n",
      "\n",
      "             TRB%        AST%        STL%        BLK%        TOV%        USG%  \\\n",
      "count  433.000000  433.000000  433.000000  433.000000  433.000000  433.000000   \n",
      "mean     9.473441   13.443418    1.053118    1.351039   12.168591   17.983834   \n",
      "std      4.324763    8.535989    0.751200    1.517370    5.015876    5.575842   \n",
      "min      0.000000    0.000000    0.000000    0.000000    0.000000    7.000000   \n",
      "25%      6.000000    7.000000    1.000000    0.000000    9.000000   14.000000   \n",
      "50%      8.000000   11.000000    1.000000    1.000000   12.000000   17.000000   \n",
      "75%     12.000000   18.000000    1.000000    2.000000   14.000000   21.000000   \n",
      "max     29.000000   47.000000    5.000000    8.000000   41.000000   38.000000   \n",
      "\n",
      "              OWS         DWS          WS  WS/48        OBPM        DBPM  \\\n",
      "count  433.000000  433.000000  433.000000  433.0  433.000000  433.000000   \n",
      "mean     1.013857    0.782910    2.080831    0.0   -0.944573   -0.069284   \n",
      "std      1.637181    0.937384    2.475889    0.0    2.527932    0.971732   \n",
      "min     -1.000000    0.000000   -1.000000    0.0  -11.000000   -4.000000   \n",
      "25%      0.000000    0.000000    0.000000    0.0   -2.000000    0.000000   \n",
      "50%      0.000000    0.000000    1.000000    0.0   -1.000000    0.000000   \n",
      "75%      1.000000    1.000000    3.000000    0.0    0.000000    0.000000   \n",
      "max      9.000000    4.000000   12.000000    0.0    8.000000    4.000000   \n",
      "\n",
      "              BPM        VORP  \n",
      "count  433.000000  433.000000  \n",
      "mean    -1.099307    0.438799  \n",
      "std      3.025635    1.021333  \n",
      "min    -15.000000   -1.000000  \n",
      "25%     -3.000000    0.000000  \n",
      "50%     -1.000000    0.000000  \n",
      "75%      0.000000    0.000000  \n",
      "max      9.000000    6.000000  \n"
     ]
    }
   ],
   "source": [
    "print(nba4.describe())"
   ]
  },
  {
   "cell_type": "code",
   "execution_count": null,
   "id": "b4c58278",
   "metadata": {},
   "outputs": [],
   "source": []
  }
 ],
 "metadata": {
  "kernelspec": {
   "display_name": "Python 3 (ipykernel)",
   "language": "python",
   "name": "python3"
  },
  "language_info": {
   "codemirror_mode": {
    "name": "ipython",
    "version": 3
   },
   "file_extension": ".py",
   "mimetype": "text/x-python",
   "name": "python",
   "nbconvert_exporter": "python",
   "pygments_lexer": "ipython3",
   "version": "3.11.5"
  }
 },
 "nbformat": 4,
 "nbformat_minor": 5
}
